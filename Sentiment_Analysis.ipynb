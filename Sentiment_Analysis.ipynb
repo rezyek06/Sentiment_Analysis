{
  "nbformat": 4,
  "nbformat_minor": 0,
  "metadata": {
    "colab": {
      "provenance": [],
      "authorship_tag": "ABX9TyNl6X1sx3qniJJcpv6E2fCI",
      "include_colab_link": true
    },
    "kernelspec": {
      "name": "python3",
      "display_name": "Python 3"
    },
    "language_info": {
      "name": "python"
    }
  },
  "cells": [
    {
      "cell_type": "markdown",
      "metadata": {
        "id": "view-in-github",
        "colab_type": "text"
      },
      "source": [
        "<a href=\"https://colab.research.google.com/github/rezyek06/Sentiment_Analysis/blob/main/Sentiment_Analysis.ipynb\" target=\"_parent\"><img src=\"https://colab.research.google.com/assets/colab-badge.svg\" alt=\"Open In Colab\"/></a>"
      ]
    },
    {
      "cell_type": "code",
      "execution_count": null,
      "metadata": {
        "id": "6gc5NrpdPE6s"
      },
      "outputs": [],
      "source": [
        "from transformers import pipeline\n",
        "import gradio as gr"
      ]
    },
    {
      "cell_type": "code",
      "source": [
        "sentiment_pipeline = pipeline(\"sentiment-analysis\")"
      ],
      "metadata": {
        "id": "DzX6-7TAPID0"
      },
      "execution_count": null,
      "outputs": []
    },
    {
      "cell_type": "code",
      "source": [
        "def sentiment_analys(data):\n",
        "  result = sentiment_pipeline(data)[0]['label']\n",
        "  return result"
      ],
      "metadata": {
        "id": "AadI1xBPPJih"
      },
      "execution_count": null,
      "outputs": []
    },
    {
      "cell_type": "code",
      "source": [
        "demo = gr.Interface(fn=sentiment_analys, inputs=\"textbox\", outputs=\"textbox\")\n",
        "demo.launch(share=True)"
      ],
      "metadata": {
        "id": "2MOt28UGPLc-"
      },
      "execution_count": null,
      "outputs": []
    }
  ]
}